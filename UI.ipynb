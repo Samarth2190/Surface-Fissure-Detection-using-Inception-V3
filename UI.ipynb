{
 "cells": [
  {
   "cell_type": "markdown",
   "metadata": {},
   "source": [
    "# UI for the Model"
   ]
  },
  {
   "cell_type": "code",
   "execution_count": 8,
   "metadata": {},
   "outputs": [
    {
     "name": "stderr",
     "output_type": "stream",
     "text": [
      "<>:2: SyntaxWarning: invalid escape sequence '\\c'\n",
      "<>:2: SyntaxWarning: invalid escape sequence '\\c'\n",
      "C:\\Users\\comp\\AppData\\Local\\Temp\\ipykernel_19216\\939205353.py:2: SyntaxWarning: invalid escape sequence '\\c'\n",
      "  final_model = tf.keras.models.load_model('surface-crack\\content\\surface-crack.keras')\n"
     ]
    },
    {
     "data": {
      "text/plain": [
       "<Functional name=functional, built=True>"
      ]
     },
     "execution_count": 8,
     "metadata": {},
     "output_type": "execute_result"
    }
   ],
   "source": [
    "import tensorflow as tf\n",
    "final_model = tf.keras.models.load_model('surface-crack\\content\\surface-crack.keras')\n",
    "final_model\n",
    "# for layer in final_model.layers:\n",
    "#     print(layer.name)"
   ]
  },
  {
   "cell_type": "code",
   "execution_count": null,
   "metadata": {},
   "outputs": [],
   "source": [
    "import gradio as gr\n",
    "import numpy as np\n",
    "import tensorflow as tf\n",
    "import cv2\n",
    "import matplotlib.cm as cm\n",
    "from tensorflow.keras.preprocessing.image import img_to_array\n",
    "\n",
    "# Load trained model\n",
    "\n",
    "# Get the last convolutional layer\n",
    "last_conv_layer_name = \"conv2d\"  # Change this if needed\n",
    "\n",
    "\n",
    "# Function to compute Grad-CAM heatmap\n",
    "def make_gradcam_heatmap(img_array, model, last_conv_layer_name):\n",
    "    grad_model = tf.keras.models.Model(\n",
    "        [model.inputs], [model.get_layer(last_conv_layer_name).output, model.output]\n",
    "    )\n",
    "\n",
    "    with tf.GradientTape() as tape:\n",
    "        conv_outputs, predictions = grad_model(img_array)\n",
    "        predicted_class = tf.argmax(predictions[0])\n",
    "        loss = predictions[:, predicted_class]\n",
    "\n",
    "    grads = tape.gradient(loss, conv_outputs)\n",
    "    pooled_grads = tf.reduce_mean(grads, axis=(0, 1, 2))\n",
    "\n",
    "    conv_outputs = conv_outputs[0]\n",
    "    heatmap = conv_outputs @ pooled_grads[..., tf.newaxis]\n",
    "    heatmap = tf.squeeze(heatmap)\n",
    "\n",
    "    # Normalize heatmap\n",
    "    heatmap = np.maximum(heatmap, 0)\n",
    "    heatmap /= np.max(heatmap)\n",
    "    return heatmap, predicted_class.numpy()\n",
    "\n",
    "# Function to apply segmentation on heatmap\n",
    "PIXELS_PER_MM = 3.78  \n",
    "\n",
    "def segment_crack(img, heatmap):\n",
    "    heatmap = cv2.resize(heatmap, (img.shape[1], img.shape[0]))\n",
    "    heatmap = np.uint8(255 * heatmap)\n",
    "\n",
    "    _, binary_mask = cv2.threshold(heatmap, 100, 255, cv2.THRESH_BINARY)\n",
    "    contours, _ = cv2.findContours(binary_mask, cv2.RETR_EXTERNAL, cv2.CHAIN_APPROX_SIMPLE)\n",
    "\n",
    "    segmented_image = img.copy()\n",
    "    max_length, max_breadth = 0, 0\n",
    "\n",
    "    for contour in contours:\n",
    "        x, y, w, h = cv2.boundingRect(contour)\n",
    "        if w * h > max_length * max_breadth:  # largest area\n",
    "            max_length, max_breadth = h, w  # height is length, width is breadth\n",
    "\n",
    "        cv2.drawContours(segmented_image, [contour], -1, (0, 255, 0), 2)\n",
    "\n",
    "    length_mm = round(max_length / PIXELS_PER_MM, 2)\n",
    "    breadth_mm = round(max_breadth / PIXELS_PER_MM, 2)\n",
    "\n",
    "    return segmented_image, length_mm, breadth_mm\n",
    "\n",
    "\n",
    "\n",
    "# Function for Gradio prediction\n",
    "def predict_input_image(image):\n",
    "    try:\n",
    "        image = np.array(image)\n",
    "\n",
    "        # Preprocess image\n",
    "        image_resized = cv2.resize(image, (224, 224))\n",
    "        img_array = img_to_array(image_resized) / 255.0\n",
    "        img_array = np.expand_dims(img_array, axis=0)\n",
    "\n",
    "        # Get Grad-CAM heatmap\n",
    "        heatmap, predicted_class = make_gradcam_heatmap(img_array, final_model, last_conv_layer_name)\n",
    "\n",
    "        # Overlay segmentation\n",
    "        segmented_image, length_mm, breadth_mm = segment_crack(image_resized, heatmap)\n",
    "\n",
    "\n",
    "        # Class labels\n",
    "        CLASS_LABELS = {0: \"Surface clean, no cracks found.\", 1: \"Crack Detected\"}\n",
    "        confidence = final_model.predict(img_array)[0][predicted_class]\n",
    "        if confidence < 0.2:\n",
    "            confidence = 1 - confidence\n",
    "            predicted_class = 1\n",
    "\n",
    "\n",
    "        return CLASS_LABELS[predicted_class], f\"Confidence: {confidence:.2%}\", segmented_image, f\"{length_mm} mm\", f\"{breadth_mm} mm\"\n",
    "\n",
    "    except Exception as e:\n",
    "        return \"Error\", str(e), None\n",
    "\n",
    "# Setup Gradio Interface\n",
    "label = gr.Label()\n",
    "confidence = gr.Textbox()\n",
    "segmented_output = gr.Image(type=\"numpy\")\n",
    "length = gr.Textbox(label=\"Crack Length (mm)\")\n",
    "# breadth = gr.Textbox(label=\"Crack Breadth (mm)\")\n",
    "\n",
    "inter = gr.Interface(\n",
    "    fn=predict_input_image,\n",
    "    inputs=image,\n",
    "    outputs=[label, confidence, segmented_output, length],\n",
    "    title=\"Crack Detection with Segmentation and Measurement\",\n",
    "    live=True\n",
    ")\n",
    "\n",
    "\n",
    "inter.launch(share=True)\n",
    "\n",
    "\n"
   ]
  },
  {
   "cell_type": "code",
   "execution_count": 9,
   "metadata": {},
   "outputs": [
    {
     "name": "stdout",
     "output_type": "stream",
     "text": [
      "* Running on local URL:  http://127.0.0.1:7864\n",
      "* Running on public URL: https://e94ae761729c94f5ed.gradio.live\n",
      "\n",
      "This share link expires in 72 hours. For free permanent hosting and GPU upgrades, run `gradio deploy` from the terminal in the working directory to deploy to Hugging Face Spaces (https://huggingface.co/spaces)\n"
     ]
    },
    {
     "data": {
      "text/html": [
       "<div><iframe src=\"https://e94ae761729c94f5ed.gradio.live\" width=\"100%\" height=\"500\" allow=\"autoplay; camera; microphone; clipboard-read; clipboard-write;\" frameborder=\"0\" allowfullscreen></iframe></div>"
      ],
      "text/plain": [
       "<IPython.core.display.HTML object>"
      ]
     },
     "metadata": {},
     "output_type": "display_data"
    },
    {
     "data": {
      "text/plain": []
     },
     "execution_count": 9,
     "metadata": {},
     "output_type": "execute_result"
    },
    {
     "name": "stderr",
     "output_type": "stream",
     "text": [
      "d:\\FinalPBLProj\\crackENV\\Lib\\site-packages\\keras\\src\\models\\functional.py:238: UserWarning: The structure of `inputs` doesn't match the expected structure.\n",
      "Expected: [['input_layer']]\n",
      "Received: inputs=Tensor(shape=(1, 224, 224, 3))\n",
      "  warnings.warn(msg)\n"
     ]
    },
    {
     "name": "stdout",
     "output_type": "stream",
     "text": [
      "\u001b[1m1/1\u001b[0m \u001b[32m━━━━━━━━━━━━━━━━━━━━\u001b[0m\u001b[37m\u001b[0m \u001b[1m1s\u001b[0m 1s/step\n"
     ]
    },
    {
     "name": "stderr",
     "output_type": "stream",
     "text": [
      "d:\\FinalPBLProj\\crackENV\\Lib\\site-packages\\keras\\src\\models\\functional.py:238: UserWarning: The structure of `inputs` doesn't match the expected structure.\n",
      "Expected: [['input_layer']]\n",
      "Received: inputs=Tensor(shape=(1, 224, 224, 3))\n",
      "  warnings.warn(msg)\n"
     ]
    },
    {
     "name": "stdout",
     "output_type": "stream",
     "text": [
      "\u001b[1m1/1\u001b[0m \u001b[32m━━━━━━━━━━━━━━━━━━━━\u001b[0m\u001b[37m\u001b[0m \u001b[1m0s\u001b[0m 88ms/step\n"
     ]
    }
   ],
   "source": [
    "import gradio as gr\n",
    "import numpy as np\n",
    "import tensorflow as tf\n",
    "import cv2\n",
    "import matplotlib.cm as cm\n",
    "from tensorflow.keras.preprocessing.image import img_to_array\n",
    "\n",
    "# Load trained model\n",
    "\n",
    "# Get the last convolutional layer\n",
    "last_conv_layer_name = \"conv2d\"  # Change this if needed\n",
    "\n",
    "\n",
    "# Function to compute Grad-CAM heatmap\n",
    "def make_gradcam_heatmap(img_array, model, last_conv_layer_name):\n",
    "    grad_model = tf.keras.models.Model(\n",
    "        [model.inputs], [model.get_layer(last_conv_layer_name).output, model.output]\n",
    "    )\n",
    "\n",
    "    with tf.GradientTape() as tape:\n",
    "        conv_outputs, predictions = grad_model(img_array)\n",
    "        predicted_class = tf.argmax(predictions[0])\n",
    "        loss = predictions[:, predicted_class]\n",
    "\n",
    "    grads = tape.gradient(loss, conv_outputs)\n",
    "    pooled_grads = tf.reduce_mean(grads, axis=(0, 1, 2))\n",
    "\n",
    "    conv_outputs = conv_outputs[0]\n",
    "    heatmap = conv_outputs @ pooled_grads[..., tf.newaxis]\n",
    "    heatmap = tf.squeeze(heatmap)\n",
    "\n",
    "    # Normalize heatmap\n",
    "    heatmap = np.maximum(heatmap, 0)\n",
    "    heatmap /= np.max(heatmap)\n",
    "    return heatmap, predicted_class.numpy()\n",
    "\n",
    "# Function to apply segmentation on heatmap\n",
    "def segment_crack(img, heatmap):\n",
    "    heatmap = cv2.resize(heatmap, (img.shape[1], img.shape[0]))\n",
    "    heatmap = np.uint8(255 * heatmap)  # Scale heatmap to 0-255\n",
    "\n",
    "    # No need for cvtColor, heatmap is already single-channel\n",
    "    gray_heatmap = heatmap\n",
    "\n",
    "    # Apply adaptive thresholding to segment the crack\n",
    "    _, binary_mask = cv2.threshold(gray_heatmap, 100, 255, cv2.THRESH_BINARY)\n",
    "\n",
    "    # Find contours of the crack\n",
    "    contours, _ = cv2.findContours(binary_mask, cv2.RETR_EXTERNAL, cv2.CHAIN_APPROX_SIMPLE)\n",
    "\n",
    "    # Draw contours on the original image\n",
    "    segmented_image = img.copy()\n",
    "    cv2.drawContours(segmented_image, contours, -1, (0, 255, 0), 2)  # Green contours\n",
    "\n",
    "    return segmented_image\n",
    "\n",
    "\n",
    "# Function for Gradio prediction\n",
    "def predict_input_image(image):\n",
    "    try:\n",
    "        image = np.array(image)\n",
    "\n",
    "        # Preprocess image\n",
    "        image_resized = cv2.resize(image, (224, 224))\n",
    "        img_array = img_to_array(image_resized) / 255.0\n",
    "        img_array = np.expand_dims(img_array, axis=0)\n",
    "\n",
    "        # Get Grad-CAM heatmap\n",
    "        heatmap, predicted_class = make_gradcam_heatmap(img_array, final_model, last_conv_layer_name)\n",
    "\n",
    "        # Overlay segmentation\n",
    "        segmented_image = segment_crack(image_resized, heatmap)\n",
    "\n",
    "        # Class labels\n",
    "        CLASS_LABELS = {0: \"Surface clean, no cracks found.\", 1: \"Crack Detected\"}\n",
    "        confidence = final_model.predict(img_array)[0][predicted_class]\n",
    "        if confidence < 0.2:\n",
    "            confidence = 1 - confidence\n",
    "            predicted_class = 1\n",
    "\n",
    "\n",
    "        return CLASS_LABELS[predicted_class], f\"Confidence: {confidence:.2%}\", segmented_image\n",
    "\n",
    "    except Exception as e:\n",
    "        return \"Error\", str(e), None\n",
    "\n",
    "# Setup Gradio Interface\n",
    "image = gr.Image(type=\"numpy\")\n",
    "label = gr.Label()\n",
    "confidence = gr.Textbox()\n",
    "segmented_output = gr.Image(type=\"numpy\")\n",
    "\n",
    "inter = gr.Interface(\n",
    "    fn=predict_input_image,\n",
    "    inputs=image,\n",
    "    outputs=[label, confidence, segmented_output],\n",
    "    title=\"Crack Detection with Segmentation\",\n",
    "    live=True\n",
    ")\n",
    "\n",
    "inter.launch(share=True)\n",
    "\n",
    "\n"
   ]
  }
 ],
 "metadata": {
  "kernelspec": {
   "display_name": "crackENV",
   "language": "python",
   "name": "python3"
  },
  "language_info": {
   "codemirror_mode": {
    "name": "ipython",
    "version": 3
   },
   "file_extension": ".py",
   "mimetype": "text/x-python",
   "name": "python",
   "nbconvert_exporter": "python",
   "pygments_lexer": "ipython3",
   "version": "3.12.5"
  }
 },
 "nbformat": 4,
 "nbformat_minor": 2
}
