{
  "cells": [
    {
      "cell_type": "code",
      "execution_count": 1,
      "metadata": {
        "colab": {
          "base_uri": "https://localhost:8080/"
        },
        "id": "RJZUVxfcL0Qh",
        "outputId": "f44b2dd3-63c3-4ef3-c521-0a64635208e6"
      },
      "outputs": [
        {
          "name": "stderr",
          "output_type": "stream",
          "text": [
            "d:\\FinalPBLProj\\crackENV\\Lib\\site-packages\\tqdm\\auto.py:21: TqdmWarning: IProgress not found. Please update jupyter and ipywidgets. See https://ipywidgets.readthedocs.io/en/stable/user_install.html\n",
            "  from .autonotebook import tqdm as notebook_tqdm\n"
          ]
        },
        {
          "name": "stdout",
          "output_type": "stream",
          "text": [
            "Data source import complete.\n"
          ]
        }
      ],
      "source": [
        "# IMPORTANT: RUN THIS CELL IN ORDER TO IMPORT YOUR KAGGLE DATA SOURCES,\n",
        "# THEN FEEL FREE TO DELETE THIS CELL.\n",
        "# NOTE: THIS NOTEBOOK ENVIRONMENT DIFFERS FROM KAGGLE'S PYTHON\n",
        "# ENVIRONMENT SO THERE MAY BE MISSING LIBRARIES USED BY YOUR\n",
        "# NOTEBOOK.\n",
        "import kagglehub\n",
        "xinzone_surface_crack_path = kagglehub.dataset_download('xinzone/surface-crack')\n",
        "\n",
        "print('Data source import complete.')\n",
        "\n",
        "# Install SimpleITK\n",
        "# !pip install SimpleITK\n",
        "\n",
        "import tensorflow as tf\n",
        "from tensorflow.keras.layers import Input, Dense, Dropout, Conv2D, MaxPooling2D, Flatten, Dropout, BatchNormalization\n",
        "from tensorflow.keras.models import Model\n",
        "from tensorflow.keras.optimizers import Adam\n",
        "from tensorflow.keras.preprocessing.image import ImageDataGenerator\n",
        "from tensorflow.keras.utils import img_to_array, load_img\n",
        "from tensorflow.keras.callbacks import ModelCheckpoint\n",
        "from tensorflow.keras import layers\n",
        "import numpy as np\n",
        "import SimpleITK as sitk # Now this line should work\n",
        "import cv2 as cv\n",
        "import matplotlib.pyplot as plt\n",
        "import os\n",
        "\n",
        "from sklearn.model_selection import train_test_split\n",
        "from mlxtend.plotting import plot_confusion_matrix\n",
        "from sklearn.metrics import confusion_matrix"
      ]
    },
    {
      "cell_type": "code",
      "execution_count": null,
      "metadata": {
        "colab": {
          "base_uri": "https://localhost:8080/"
        },
        "execution": {
          "iopub.execute_input": "2023-01-27T12:57:28.724123Z",
          "iopub.status.busy": "2023-01-27T12:57:28.723279Z",
          "iopub.status.idle": "2023-01-27T12:57:28.748725Z",
          "shell.execute_reply": "2023-01-27T12:57:28.747513Z",
          "shell.execute_reply.started": "2023-01-27T12:57:28.72407Z"
        },
        "id": "LqmpYfFRLX23",
        "outputId": "8afe6d2e-2751-44c0-ad75-1d50061c89e0",
        "trusted": true
      },
      "outputs": [],
      "source": [
        "# Define the training and validation base directories\n",
        "# data_dir = '/kaggle/working/surface-crack' # Incorrect: Assuming a specific path\n",
        "data_dir = xinzone_surface_crack_path  # Correct: Use the path returned by kagglehub\n",
        "\n",
        "# Update train, validation, and test directories to point to the downloaded data\n",
        "train_dir = os.path.join(data_dir, 'train') # Assuming 'train' folder is inside 'surface-crack'\n",
        "validation_dir = os.path.join(data_dir, 'valid') # Assuming 'valid' folder is inside 'surface-crack'\n",
        "test_dir = os.path.join(data_dir, 'test') # Assuming 'test' folder is inside 'surface-crack'\n",
        "\n",
        "# Directory with training positive pictures\n",
        "train_positive_dir = os.path.join(train_dir, 'Positive')\n",
        "# Directory with training negative pictures\n",
        "train_negative_dir = os.path.join(train_dir, 'Negative')\n",
        "# Directory with validation positive pictures\n",
        "validation_positive_dir = os.path.join(validation_dir, 'Positive')\n",
        "# Directory with validation negative pictures\n",
        "validation_negative_dir = os.path.join(validation_dir, 'Negative')\n",
        "# Directory with test positive pictures\n",
        "test_positive_dir = os.path.join(test_dir, 'Positive')\n",
        "# Directory with test negative pictures\n",
        "test_negative_dir = os.path.join(test_dir, 'Negative')\n",
        "# Check the number of images for each class and set\n",
        "print(f\"There are {len(os.listdir(train_positive_dir))} images of crack for training.\\n\")\n",
        "print(f\"There are {len(os.listdir(train_negative_dir))} images of no crack for training.\\n\")\n",
        "print(f\"There are {len(os.listdir(validation_positive_dir))} images of crack for validation.\\n\")\n",
        "print(f\"There are {len(os.listdir(validation_negative_dir))} images of no crack for validation.\\n\")\n",
        "print(f\"There are {len(os.listdir(test_positive_dir))} images of crack for test.\\n\")\n",
        "print(f\"There are {len(os.listdir(test_negative_dir))} images of no crack for test.\\n\")"
      ]
    },
    {
      "cell_type": "markdown",
      "metadata": {
        "id": "6eWyy__ALX24"
      },
      "source": [
        "## Now take a look at a sample image of each one of the classes:"
      ]
    },
    {
      "cell_type": "code",
      "execution_count": null,
      "metadata": {
        "colab": {
          "base_uri": "https://localhost:8080/",
          "height": 903
        },
        "execution": {
          "iopub.execute_input": "2023-01-27T12:57:28.750927Z",
          "iopub.status.busy": "2023-01-27T12:57:28.750213Z",
          "iopub.status.idle": "2023-01-27T12:57:29.199363Z",
          "shell.execute_reply": "2023-01-27T12:57:29.198457Z",
          "shell.execute_reply.started": "2023-01-27T12:57:28.750891Z"
        },
        "id": "oj51szEfLX25",
        "outputId": "e8450f8d-76b5-401c-c19b-6b8da56d4f5e",
        "trusted": true
      },
      "outputs": [],
      "source": [
        "print(\"Sample crack image:\")\n",
        "plt.imshow(load_img(f\"{os.path.join(train_positive_dir, os.listdir(train_positive_dir)[0])}\"))\n",
        "plt.show()\n",
        "\n",
        "print(\"\\nSample no crack image:\")\n",
        "plt.imshow(load_img(f\"{os.path.join(train_negative_dir, os.listdir(train_negative_dir)[0])}\"))\n",
        "plt.show()"
      ]
    },
    {
      "cell_type": "code",
      "execution_count": null,
      "metadata": {
        "colab": {
          "base_uri": "https://localhost:8080/"
        },
        "execution": {
          "iopub.execute_input": "2023-01-27T12:57:29.201352Z",
          "iopub.status.busy": "2023-01-27T12:57:29.200797Z",
          "iopub.status.idle": "2023-01-27T12:57:29.212437Z",
          "shell.execute_reply": "2023-01-27T12:57:29.21128Z",
          "shell.execute_reply.started": "2023-01-27T12:57:29.201314Z"
        },
        "id": "Un_OHN5XLX25",
        "outputId": "65f221a5-64a0-463e-a7cd-b63f70363c2b",
        "trusted": true
      },
      "outputs": [],
      "source": [
        "# Load the first example of a crack\n",
        "sample_image  = load_img(f\"{os.path.join(train_positive_dir, os.listdir(train_positive_dir)[0])}\")\n",
        "\n",
        "# Convert the image into its numpy array representation\n",
        "sample_array = img_to_array(sample_image)\n",
        "\n",
        "print(f\"Each image has shape: {sample_array.shape}\")"
      ]
    },
    {
      "cell_type": "markdown",
      "metadata": {
        "id": "J0xvXOwVLX25"
      },
      "source": [
        "### As expected, the sample image has a resolution of 224x224 and the last dimension is used for each one of the RGB channels to represent color."
      ]
    },
    {
      "cell_type": "markdown",
      "metadata": {
        "id": "0xZcxHdvLX25"
      },
      "source": [
        "# Preprocessing the images"
      ]
    },
    {
      "cell_type": "code",
      "execution_count": null,
      "metadata": {
        "execution": {
          "iopub.execute_input": "2023-01-27T12:57:29.21442Z",
          "iopub.status.busy": "2023-01-27T12:57:29.213969Z",
          "iopub.status.idle": "2023-01-27T12:57:29.220605Z",
          "shell.execute_reply": "2023-01-27T12:57:29.219086Z",
          "shell.execute_reply.started": "2023-01-27T12:57:29.214385Z"
        },
        "id": "dcSXwAnlLX26",
        "trusted": true
      },
      "outputs": [],
      "source": [
        "image_size = 224       #resize all images to 224*224\n",
        "\n",
        "labels = ['Positive', 'Negative']          #labels from the folders"
      ]
    },
    {
      "cell_type": "code",
      "execution_count": null,
      "metadata": {
        "execution": {
          "iopub.execute_input": "2023-01-27T12:57:29.223094Z",
          "iopub.status.busy": "2023-01-27T12:57:29.222401Z",
          "iopub.status.idle": "2023-01-27T12:57:29.235905Z",
          "shell.execute_reply": "2023-01-27T12:57:29.235059Z",
          "shell.execute_reply.started": "2023-01-27T12:57:29.223059Z"
        },
        "id": "IGqVEUJ-LX26",
        "trusted": true
      },
      "outputs": [],
      "source": [
        "def create_training_data(data_dir):              #creating the training data\n",
        "\n",
        "    images = []\n",
        "\n",
        "    for label in labels:\n",
        "        dir = os.path.join(data_dir,label)\n",
        "        class_num = labels.index(label)\n",
        "\n",
        "        for image in os.listdir(dir):    #going through all the images in different folders and resizing them\n",
        "\n",
        "            image_read = cv.imread(os.path.join(dir,image),cv.IMREAD_COLOR)\n",
        "            image_resized = cv.resize(image_read,(image_size,image_size))\n",
        "            images.append([image_resized,class_num])\n",
        "\n",
        "    return np.array(images)"
      ]
    },
    {
      "cell_type": "code",
      "execution_count": null,
      "metadata": {
        "execution": {
          "iopub.execute_input": "2023-01-27T12:57:29.238471Z",
          "iopub.status.busy": "2023-01-27T12:57:29.237976Z",
          "iopub.status.idle": "2023-01-27T12:57:33.031298Z",
          "shell.execute_reply": "2023-01-27T12:57:33.03025Z",
          "shell.execute_reply.started": "2023-01-27T12:57:29.238435Z"
        },
        "id": "LrcNImCKLX26",
        "trusted": true
      },
      "outputs": [],
      "source": [
        "def create_training_data(data_dir):              #creating the training data\n",
        "\n",
        "    images = []\n",
        "    labels_list = []  # Create a separate list for labels\n",
        "\n",
        "    for label in labels:\n",
        "        dir = os.path.join(data_dir,label)\n",
        "        class_num = labels.index(label)\n",
        "\n",
        "        for image in os.listdir(dir):    #going through all the images in different folders and resizing them\n",
        "\n",
        "            image_read = cv.imread(os.path.join(dir,image),cv.IMREAD_COLOR)\n",
        "            image_resized = cv.resize(image_read,(image_size,image_size))\n",
        "            images.append(image_resized) # Append only image data to images list\n",
        "            labels_list.append(class_num)  # Append label to labels_list\n",
        "\n",
        "    return np.array(images), np.array(labels_list) # Return both arrays\n",
        "\n",
        "X_train, y_train = create_training_data(os.path.join(xinzone_surface_crack_path, 'train'))\n",
        "X_test, y_test = create_training_data(os.path.join(xinzone_surface_crack_path, 'test'))\n",
        "X_valid, y_valid = create_training_data(os.path.join(xinzone_surface_crack_path, 'valid'))\n"
      ]
    },
    {
      "cell_type": "markdown",
      "metadata": {
        "id": "SSR0Oi3vLX27"
      },
      "source": [
        "### Loading the train and valid Images and Labels together"
      ]
    },
    {
      "cell_type": "code",
      "execution_count": null,
      "metadata": {
        "execution": {
          "iopub.execute_input": "2023-01-27T12:57:33.033189Z",
          "iopub.status.busy": "2023-01-27T12:57:33.032796Z",
          "iopub.status.idle": "2023-01-27T12:57:33.046752Z",
          "shell.execute_reply": "2023-01-27T12:57:33.045595Z",
          "shell.execute_reply.started": "2023-01-27T12:57:33.033148Z"
        },
        "id": "A3JZhIZqLX27",
        "trusted": true
      },
      "outputs": [],
      "source": [
        "X = []\n",
        "y = []\n",
        "\n",
        "# Assign the output of create_training_data for the training set to the train variable\n",
        "# The create_training_data function returns two values: images and labels\n",
        "X_train, y_train = create_training_data(os.path.join(xinzone_surface_crack_path, 'train'))\n",
        "\n",
        "# Instead of iterating through 'train', use the returned values directly\n",
        "X = X_train\n",
        "y = y_train\n",
        "\n",
        "\n",
        "X_valid = []\n",
        "y_valid = []\n",
        "\n",
        "# Assign the output of create_training_data for the validation set to the valid variable\n",
        "# The create_training_data function returns two values: images and labels\n",
        "X_valid, y_valid = create_training_data(os.path.join(xinzone_surface_crack_path, 'valid'))\n",
        "\n",
        "# Instead of iterating through 'valid', use the returned values directly\n",
        "#X_valid = X_valid_data\n",
        "#y_valid = y_valid_data"
      ]
    },
    {
      "cell_type": "code",
      "execution_count": null,
      "metadata": {
        "execution": {
          "iopub.execute_input": "2023-01-27T12:57:33.05052Z",
          "iopub.status.busy": "2023-01-27T12:57:33.048224Z",
          "iopub.status.idle": "2023-01-27T12:57:33.086752Z",
          "shell.execute_reply": "2023-01-27T12:57:33.085775Z",
          "shell.execute_reply.started": "2023-01-27T12:57:33.050482Z"
        },
        "id": "EwApJDFTLX27",
        "trusted": true
      },
      "outputs": [],
      "source": [
        "X_train = np.array(X).reshape(-1, image_size, image_size, 3)\n",
        "y_train = np.array(y)\n",
        "y_train = np.expand_dims(y_train, axis =1)"
      ]
    },
    {
      "cell_type": "code",
      "execution_count": null,
      "metadata": {
        "execution": {
          "iopub.execute_input": "2023-01-27T12:57:33.089002Z",
          "iopub.status.busy": "2023-01-27T12:57:33.088288Z",
          "iopub.status.idle": "2023-01-27T12:57:33.113072Z",
          "shell.execute_reply": "2023-01-27T12:57:33.112193Z",
          "shell.execute_reply.started": "2023-01-27T12:57:33.088965Z"
        },
        "id": "MnxTyV4yLX27",
        "trusted": true
      },
      "outputs": [],
      "source": [
        "X_vald = np.array(X_valid).reshape(-1, image_size, image_size, 3)\n",
        "y_vald = np.array(y_valid)\n",
        "y_vald = np.expand_dims(y_vald, axis =1)"
      ]
    },
    {
      "cell_type": "markdown",
      "metadata": {
        "id": "EV5ppNKiLX27"
      },
      "source": [
        "### Loading the test Images and Labels together"
      ]
    },
    {
      "cell_type": "code",
      "execution_count": null,
      "metadata": {
        "execution": {
          "iopub.execute_input": "2023-01-27T12:57:33.115062Z",
          "iopub.status.busy": "2023-01-27T12:57:33.114685Z",
          "iopub.status.idle": "2023-01-27T12:57:33.121524Z",
          "shell.execute_reply": "2023-01-27T12:57:33.12044Z",
          "shell.execute_reply.started": "2023-01-27T12:57:33.115026Z"
        },
        "id": "JrHcRj5ILX27",
        "trusted": true
      },
      "outputs": [],
      "source": [
        "X_new = []\n",
        "y_new = []\n",
        "\n",
        "# Iterate through X_test and y_test using zip\n",
        "for feature, label in zip(X_test, y_test):\n",
        "    X_new.append(feature)          #appending all images\n",
        "    y_new.append(label)            #appending all labels"
      ]
    },
    {
      "cell_type": "code",
      "execution_count": null,
      "metadata": {
        "execution": {
          "iopub.execute_input": "2023-01-27T12:57:33.123471Z",
          "iopub.status.busy": "2023-01-27T12:57:33.123114Z",
          "iopub.status.idle": "2023-01-27T12:57:33.152195Z",
          "shell.execute_reply": "2023-01-27T12:57:33.15106Z",
          "shell.execute_reply.started": "2023-01-27T12:57:33.123436Z"
        },
        "id": "Pdbhp4dJLX27",
        "trusted": true
      },
      "outputs": [],
      "source": [
        "X_test = np.array(X_new).reshape(-1, image_size, image_size, 3)\n",
        "y_test = np.array(y_new)\n",
        "y_test = np.expand_dims(y_test, axis =1)"
      ]
    },
    {
      "cell_type": "code",
      "execution_count": null,
      "metadata": {
        "colab": {
          "base_uri": "https://localhost:8080/"
        },
        "execution": {
          "iopub.execute_input": "2023-01-27T12:57:33.153941Z",
          "iopub.status.busy": "2023-01-27T12:57:33.153494Z",
          "iopub.status.idle": "2023-01-27T12:57:33.160436Z",
          "shell.execute_reply": "2023-01-27T12:57:33.159473Z",
          "shell.execute_reply.started": "2023-01-27T12:57:33.153906Z"
        },
        "id": "mdaPtk6gLX27",
        "outputId": "de23c2b8-d00d-4f43-e7b0-593cc434577f",
        "trusted": true
      },
      "outputs": [],
      "source": [
        "X_train.shape"
      ]
    },
    {
      "cell_type": "code",
      "execution_count": null,
      "metadata": {
        "colab": {
          "base_uri": "https://localhost:8080/"
        },
        "execution": {
          "iopub.execute_input": "2023-01-27T12:57:33.162604Z",
          "iopub.status.busy": "2023-01-27T12:57:33.161995Z",
          "iopub.status.idle": "2023-01-27T12:57:33.173409Z",
          "shell.execute_reply": "2023-01-27T12:57:33.172496Z",
          "shell.execute_reply.started": "2023-01-27T12:57:33.162556Z"
        },
        "id": "f9LdLKWOLX27",
        "outputId": "f78fc0c0-0633-4543-9f40-0b3e42922cee",
        "trusted": true
      },
      "outputs": [],
      "source": [
        "y_train.shape"
      ]
    },
    {
      "cell_type": "code",
      "execution_count": null,
      "metadata": {
        "execution": {
          "iopub.execute_input": "2023-01-27T12:57:33.175392Z",
          "iopub.status.busy": "2023-01-27T12:57:33.175051Z",
          "iopub.status.idle": "2023-01-27T12:57:33.560986Z",
          "shell.execute_reply": "2023-01-27T12:57:33.559852Z",
          "shell.execute_reply.started": "2023-01-27T12:57:33.175359Z"
        },
        "id": "m-sw3i53LX28",
        "trusted": true
      },
      "outputs": [],
      "source": [
        "X_train = X_train / 255            # normalizing\n",
        "X_test = X_test / 255\n",
        "X_vald = X_vald/ 255"
      ]
    },
    {
      "cell_type": "markdown",
      "metadata": {
        "id": "5Axp8M6ALX28"
      },
      "source": []
    },
    {
      "cell_type": "markdown",
      "metadata": {
        "id": "ODuWEyvWLX28"
      },
      "source": [
        "# Transfer learning - Create the pre-trained model"
      ]
    },
    {
      "cell_type": "markdown",
      "metadata": {
        "id": "Uvi7Zno0LX28"
      },
      "source": [
        "### Download the inception V3 weights into the /tmp/ directory:"
      ]
    },
    {
      "cell_type": "code",
      "execution_count": null,
      "metadata": {
        "colab": {
          "base_uri": "https://localhost:8080/"
        },
        "execution": {
          "iopub.execute_input": "2023-01-27T12:57:33.562722Z",
          "iopub.status.busy": "2023-01-27T12:57:33.562328Z",
          "iopub.status.idle": "2023-01-27T12:57:35.533477Z",
          "shell.execute_reply": "2023-01-27T12:57:35.531979Z",
          "shell.execute_reply.started": "2023-01-27T12:57:33.562684Z"
        },
        "id": "h5RVFCoaLX28",
        "outputId": "75c6f511-dc23-4090-b7cf-bbc656752b17",
        "trusted": true
      },
      "outputs": [],
      "source": [
        "# Download the inception v3 weights\n",
        "!wget --no-check-certificate \\\n",
        "    https://storage.googleapis.com/mledu-datasets/inception_v3_weights_tf_dim_ordering_tf_kernels_notop.h5 \\\n",
        "    -O /tmp/inception_v3_weights_tf_dim_ordering_tf_kernels_notop.h5"
      ]
    },
    {
      "cell_type": "markdown",
      "metadata": {
        "id": "adygjsXiLX28"
      },
      "source": [
        "### Now load the InceptionV3 model and save the path to the weights we just downloaded:"
      ]
    },
    {
      "cell_type": "code",
      "execution_count": null,
      "metadata": {
        "execution": {
          "iopub.execute_input": "2023-01-27T12:57:35.535763Z",
          "iopub.status.busy": "2023-01-27T12:57:35.535324Z",
          "iopub.status.idle": "2023-01-27T12:57:35.545678Z",
          "shell.execute_reply": "2023-01-27T12:57:35.544622Z",
          "shell.execute_reply.started": "2023-01-27T12:57:35.53572Z"
        },
        "id": "gu1807ZELX28",
        "trusted": true
      },
      "outputs": [],
      "source": [
        "# Import the inception model\n",
        "from tensorflow.keras.applications.inception_v3 import InceptionV3\n",
        "\n",
        "# Create an instance of the inception model from the local pre-trained weights\n",
        "local_weights_file = 'C:\\\\Users\\\\Samarth\\\\Downloads\\\\inception_v3_weights_tf_dim_ordering_tf_kernels_notop.h5'"
      ]
    },
    {
      "cell_type": "code",
      "execution_count": null,
      "metadata": {
        "execution": {
          "iopub.execute_input": "2023-01-27T12:57:35.551118Z",
          "iopub.status.busy": "2023-01-27T12:57:35.550802Z",
          "iopub.status.idle": "2023-01-27T12:57:35.821834Z",
          "shell.execute_reply": "2023-01-27T12:57:35.820839Z",
          "shell.execute_reply.started": "2023-01-27T12:57:35.55109Z"
        },
        "id": "2oEEo9R5LX28",
        "trusted": true
      },
      "outputs": [],
      "source": [
        "# create_pre_trained_model\n",
        "def create_pre_trained_model(local_weights_file):\n",
        "    pre_trained_model = InceptionV3(input_shape = (224, 224, 3),\n",
        "                                  include_top = False,\n",
        "                                  weights = None)\n",
        "\n",
        "    pre_trained_model.load_weights(local_weights_file)\n",
        "\n",
        "  # Make all the layers in the pre-trained model non-trainable\n",
        "    for layer in pre_trained_model.layers:\n",
        "        layer.trainable = False\n",
        "\n",
        "  ### END CODE HERE\n",
        "\n",
        "    return pre_trained_model"
      ]
    },
    {
      "cell_type": "markdown",
      "metadata": {
        "id": "7wBEdQTRLX28"
      },
      "source": [
        "# Compiling and viewing the model summary"
      ]
    },
    {
      "cell_type": "code",
      "execution_count": null,
      "metadata": {
        "colab": {
          "base_uri": "https://localhost:8080/",
          "height": 1000
        },
        "execution": {
          "iopub.execute_input": "2023-01-27T12:57:35.825744Z",
          "iopub.status.busy": "2023-01-27T12:57:35.824937Z",
          "iopub.status.idle": "2023-01-27T12:57:37.86799Z",
          "shell.execute_reply": "2023-01-27T12:57:37.866843Z",
          "shell.execute_reply.started": "2023-01-27T12:57:35.825702Z"
        },
        "id": "KDOFG6qmLX28",
        "outputId": "593c3439-bac4-4a65-f5de-248250827c02",
        "trusted": true
      },
      "outputs": [],
      "source": [
        "pre_trained_model = create_pre_trained_model(local_weights_file)\n",
        "\n",
        "# Print the model summary\n",
        "pre_trained_model.summary()"
      ]
    },
    {
      "cell_type": "markdown",
      "metadata": {
        "id": "iUs07Lz7LX28"
      },
      "source": [
        "### Pipelining the pre-trained model with your own"
      ]
    },
    {
      "cell_type": "code",
      "execution_count": null,
      "metadata": {
        "execution": {
          "iopub.execute_input": "2023-01-27T12:57:37.870415Z",
          "iopub.status.busy": "2023-01-27T12:57:37.869721Z",
          "iopub.status.idle": "2023-01-27T12:57:37.877629Z",
          "shell.execute_reply": "2023-01-27T12:57:37.876623Z",
          "shell.execute_reply.started": "2023-01-27T12:57:37.870372Z"
        },
        "id": "fE4nRoFpLX28",
        "trusted": true
      },
      "outputs": [],
      "source": [
        "def output_of_last_layer(pre_trained_model):\n",
        "    last_desired_layer = pre_trained_model.get_layer('mixed7')\n",
        "    # Access output shape after building the model\n",
        "    # Build the model with dummy input to resolve the shape\n",
        "    pre_trained_model.build(input_shape=(None, 224, 224, 3))\n",
        "    # Get output shape from the output tensor\n",
        "    print('last layer output shape: ', last_desired_layer.output.shape)\n",
        "    last_output = last_desired_layer.output\n",
        "    print('last layer output: ', last_output)\n",
        "\n",
        "    return last_output"
      ]
    },
    {
      "cell_type": "code",
      "execution_count": null,
      "metadata": {
        "colab": {
          "base_uri": "https://localhost:8080/"
        },
        "execution": {
          "iopub.execute_input": "2023-01-27T12:57:37.879754Z",
          "iopub.status.busy": "2023-01-27T12:57:37.879335Z",
          "iopub.status.idle": "2023-01-27T12:57:37.889509Z",
          "shell.execute_reply": "2023-01-27T12:57:37.888255Z",
          "shell.execute_reply.started": "2023-01-27T12:57:37.879695Z"
        },
        "id": "N4Zy7tecLX28",
        "outputId": "237c9668-d6d1-4a01-e6e9-07803564a5b9",
        "trusted": true
      },
      "outputs": [],
      "source": [
        "last_output = output_of_last_layer(pre_trained_model)"
      ]
    },
    {
      "cell_type": "code",
      "execution_count": null,
      "metadata": {
        "colab": {
          "base_uri": "https://localhost:8080/"
        },
        "execution": {
          "iopub.execute_input": "2023-01-27T12:57:37.892009Z",
          "iopub.status.busy": "2023-01-27T12:57:37.891528Z",
          "iopub.status.idle": "2023-01-27T12:57:37.90053Z",
          "shell.execute_reply": "2023-01-27T12:57:37.899134Z",
          "shell.execute_reply.started": "2023-01-27T12:57:37.891972Z"
        },
        "id": "0A7o13CFLX28",
        "outputId": "a7da3e23-282e-4075-f020-ed7d45d79dc5",
        "trusted": true
      },
      "outputs": [],
      "source": [
        "# Print the type of the pre-trained model\n",
        "print(f\"The pretrained model has type: {type(pre_trained_model)}\")"
      ]
    },
    {
      "cell_type": "code",
      "execution_count": null,
      "metadata": {
        "execution": {
          "iopub.execute_input": "2023-01-27T12:57:37.902637Z",
          "iopub.status.busy": "2023-01-27T12:57:37.902242Z",
          "iopub.status.idle": "2023-01-27T12:57:37.910695Z",
          "shell.execute_reply": "2023-01-27T12:57:37.909753Z",
          "shell.execute_reply.started": "2023-01-27T12:57:37.902602Z"
        },
        "id": "b5vWGMHCLX29",
        "trusted": true
      },
      "outputs": [],
      "source": [
        "\n",
        "def create_final_model(pre_trained_model, last_output):\n",
        "    # Flatten the output layer to 1 dimension\n",
        "    x = layers.Flatten()(last_output)\n",
        "\n",
        "\n",
        "\n",
        "    # Add a fully connected layer with 512 hidden units and ReLU activation\n",
        "    x = layers.Dense(1024, activation='relu')(x)\n",
        "    # Add a dropout rate of 0.2\n",
        "    x = layers.Dropout(0.2)(x)\n",
        "#     x = layers.Dense(512, activation='relu')(x)\n",
        "#     # Add a dropout rate of 0.3\n",
        "#     x = layers.Dropout(0.3)(x)\n",
        "#     x = layers.Dense(512, activation='relu')(x)\n",
        "#     # Add a dropout rate of 0.1\n",
        "#     x = layers.Dropout(0.1)(x)\n",
        "    # Add a final sigmoid layer for classification\n",
        "    x = layers.Dense(1, activation='sigmoid')(x)\n",
        "\n",
        "    # Create the complete model by using the Model class\n",
        "    model = Model(pre_trained_model.input, x)\n",
        "\n",
        "    # Compile the model\n",
        "    model.compile(optimizer=Adam(learning_rate = 0.0001),\n",
        "                loss = 'binary_crossentropy',\n",
        "                metrics = ['accuracy'])\n",
        "\n",
        "    ### END CODE HERE\n",
        "\n",
        "    return model"
      ]
    },
    {
      "cell_type": "code",
      "execution_count": null,
      "metadata": {
        "colab": {
          "base_uri": "https://localhost:8080/"
        },
        "execution": {
          "iopub.execute_input": "2023-01-27T12:57:37.912499Z",
          "iopub.status.busy": "2023-01-27T12:57:37.912082Z",
          "iopub.status.idle": "2023-01-27T12:57:37.967131Z",
          "shell.execute_reply": "2023-01-27T12:57:37.966101Z",
          "shell.execute_reply.started": "2023-01-27T12:57:37.912465Z"
        },
        "id": "ekse5WBsLX29",
        "outputId": "83a8d6b4-88e3-4244-f007-d36d3a3fd104",
        "trusted": true
      },
      "outputs": [],
      "source": [
        "# Save your model in a variable\n",
        "model = create_final_model(pre_trained_model, last_output)\n",
        "\n",
        "# Inspect parameters\n",
        "total_params = model.count_params()\n",
        "num_trainable_params = sum([w.shape.num_elements() for w in model.trainable_weights])\n",
        "\n",
        "print(f\"There are {total_params:,} total parameters in this model.\")\n",
        "print(f\"There are {num_trainable_params:,} trainable parameters in this model.\")"
      ]
    },
    {
      "cell_type": "markdown",
      "metadata": {
        "id": "2TuUIyc4LX29"
      },
      "source": [
        "# Data Augmentation"
      ]
    },
    {
      "cell_type": "code",
      "execution_count": null,
      "metadata": {
        "execution": {
          "iopub.execute_input": "2023-01-27T12:57:37.968984Z",
          "iopub.status.busy": "2023-01-27T12:57:37.968529Z",
          "iopub.status.idle": "2023-01-27T12:57:38.180402Z",
          "shell.execute_reply": "2023-01-27T12:57:38.179399Z",
          "shell.execute_reply.started": "2023-01-27T12:57:37.96895Z"
        },
        "id": "HPfyIf89LX29",
        "trusted": true
      },
      "outputs": [],
      "source": [
        "batch_size = 4\n",
        "\n",
        "train_gen = ImageDataGenerator(rotation_range=10,\n",
        "                                   horizontal_flip = True,\n",
        "                                   width_shift_range=0.1,\n",
        "                                   height_shift_range=0.1,\n",
        "                                   rescale=1.,\n",
        "                                   zoom_range=0.2,\n",
        "                                   fill_mode='nearest',\n",
        "                                   cval=0)\n",
        "\n",
        "train_generator = train_gen.flow(X_train,y_train,batch_size)\n",
        "steps_per_epoch = X_train.shape[0]//batch_size"
      ]
    },
    {
      "cell_type": "code",
      "execution_count": null,
      "metadata": {
        "execution": {
          "iopub.execute_input": "2023-01-27T12:57:38.182183Z",
          "iopub.status.busy": "2023-01-27T12:57:38.181816Z",
          "iopub.status.idle": "2023-01-27T12:57:38.188146Z",
          "shell.execute_reply": "2023-01-27T12:57:38.187157Z",
          "shell.execute_reply.started": "2023-01-27T12:57:38.182146Z"
        },
        "id": "1B81GI2yLX29",
        "trusted": true
      },
      "outputs": [],
      "source": [
        "checkpoint = ModelCheckpoint('surface-crack.keras', monitor='val_loss', verbose=1, save_best_only=True, mode='auto')"
      ]
    },
    {
      "cell_type": "code",
      "execution_count": null,
      "metadata": {
        "colab": {
          "base_uri": "https://localhost:8080/"
        },
        "id": "XFM1IhS5dItf",
        "outputId": "24d2b154-3de2-4873-aa65-3b6530b4c805"
      },
      "outputs": [],
      "source": [
        "for layer in model.layers:\n",
        "    print(layer.name)"
      ]
    },
    {
      "cell_type": "code",
      "execution_count": null,
      "metadata": {
        "colab": {
          "base_uri": "https://localhost:8080/"
        },
        "execution": {
          "iopub.execute_input": "2023-01-27T12:57:38.19042Z",
          "iopub.status.busy": "2023-01-27T12:57:38.189595Z",
          "iopub.status.idle": "2023-01-27T13:02:27.776339Z",
          "shell.execute_reply": "2023-01-27T13:02:27.775271Z",
          "shell.execute_reply.started": "2023-01-27T12:57:38.190384Z"
        },
        "id": "VcCbKuwQLX3A",
        "outputId": "6545a7af-3fd8-4ba3-c301-c95144915371",
        "trusted": true
      },
      "outputs": [],
      "source": [
        "r = model.fit(train_generator, validation_data=(X_vald, y_vald), steps_per_epoch = steps_per_epoch, epochs= 14,\n",
        "                       callbacks = [checkpoint])"
      ]
    },
    {
      "cell_type": "code",
      "execution_count": null,
      "metadata": {
        "id": "ssspZuXrxNbb"
      },
      "outputs": [],
      "source": [
        "# model.save('my_model.h5');"
      ]
    },
    {
      "cell_type": "markdown",
      "metadata": {
        "id": "mJzdiGgZLX3B"
      },
      "source": [
        "# Plots"
      ]
    },
    {
      "cell_type": "code",
      "execution_count": null,
      "metadata": {
        "id": "PdsW_pxexMW9"
      },
      "outputs": [],
      "source": []
    },
    {
      "cell_type": "code",
      "execution_count": null,
      "metadata": {
        "colab": {
          "base_uri": "https://localhost:8080/",
          "height": 469
        },
        "execution": {
          "iopub.execute_input": "2023-01-27T13:02:27.778485Z",
          "iopub.status.busy": "2023-01-27T13:02:27.778206Z",
          "iopub.status.idle": "2023-01-27T13:02:28.027073Z",
          "shell.execute_reply": "2023-01-27T13:02:28.026162Z",
          "shell.execute_reply.started": "2023-01-27T13:02:27.778459Z"
        },
        "id": "AOyDZG0VLX3B",
        "outputId": "790c9ffe-d6c7-447c-bbe9-7362bd3b00bd",
        "trusted": true
      },
      "outputs": [],
      "source": [
        "import matplotlib.pyplot as plt\n",
        "acc = r.history['accuracy']\n",
        "val_acc = r.history['val_accuracy']\n",
        "loss = r.history['loss']\n",
        "val_loss = r.history['val_loss']\n",
        "\n",
        "epochs = range(len(acc))\n",
        "\n",
        "plt.plot(epochs, acc, 'r', label='Training accuracy')\n",
        "plt.plot(epochs, val_acc, 'b', label='Validation accuracy')\n",
        "plt.title('Training and validation accuracy')\n",
        "plt.legend(loc=0)\n",
        "plt.figure()\n",
        "\n",
        "\n",
        "plt.show()"
      ]
    },
    {
      "cell_type": "code",
      "execution_count": null,
      "metadata": {
        "colab": {
          "base_uri": "https://localhost:8080/",
          "height": 447
        },
        "execution": {
          "iopub.execute_input": "2023-01-27T13:02:28.030192Z",
          "iopub.status.busy": "2023-01-27T13:02:28.029898Z",
          "iopub.status.idle": "2023-01-27T13:02:28.266449Z",
          "shell.execute_reply": "2023-01-27T13:02:28.265502Z",
          "shell.execute_reply.started": "2023-01-27T13:02:28.030166Z"
        },
        "id": "SjIV_vNlLX3B",
        "outputId": "49332228-ec1c-4f5c-a021-5e9ad42859e7",
        "trusted": true
      },
      "outputs": [],
      "source": [
        "plt.plot(r.history['loss'],label='loss')\n",
        "plt.plot(r.history['val_loss'],label='val_loss')\n",
        "plt.legend()"
      ]
    },
    {
      "cell_type": "code",
      "execution_count": null,
      "metadata": {
        "execution": {
          "iopub.execute_input": "2023-01-27T13:02:28.26863Z",
          "iopub.status.busy": "2023-01-27T13:02:28.268238Z",
          "iopub.status.idle": "2023-01-27T13:02:28.273434Z",
          "shell.execute_reply": "2023-01-27T13:02:28.272253Z",
          "shell.execute_reply.started": "2023-01-27T13:02:28.268568Z"
        },
        "id": "cKkrfPeJLX3B",
        "trusted": true
      },
      "outputs": [],
      "source": [
        "# new_model = tf.keras.models.load_model('surface-crack')   #loading model to train further"
      ]
    },
    {
      "cell_type": "code",
      "execution_count": null,
      "metadata": {
        "execution": {
          "iopub.execute_input": "2023-01-27T13:02:28.275509Z",
          "iopub.status.busy": "2023-01-27T13:02:28.275106Z",
          "iopub.status.idle": "2023-01-27T13:02:28.284156Z",
          "shell.execute_reply": "2023-01-27T13:02:28.283202Z",
          "shell.execute_reply.started": "2023-01-27T13:02:28.27544Z"
        },
        "id": "r6DXlkdxLX3B",
        "trusted": true
      },
      "outputs": [],
      "source": [
        "# new_model.compile(optimizer = Adam(learning_rate = 0.00001), loss = 'binary_crossentropy', metrics = ['accuracy'])\n",
        "\n",
        "# checkpoint1 = ModelCheckpoint('surface-crack', monitor='val_loss', verbose=1, save_best_only=True, mode='auto')\n",
        "\n",
        "# batch_size = 4\n",
        "\n",
        "# r1 = new_model.fit(train_generator, validation_data=(X_vald, y_vald), steps_per_epoch = steps_per_epoch, epochs= 10,\n",
        "#                        callbacks = [checkpoint1])"
      ]
    },
    {
      "cell_type": "code",
      "execution_count": 3,
      "metadata": {
        "execution": {
          "iopub.execute_input": "2023-01-27T13:02:28.286081Z",
          "iopub.status.busy": "2023-01-27T13:02:28.285709Z",
          "iopub.status.idle": "2023-01-27T13:02:42.370105Z",
          "shell.execute_reply": "2023-01-27T13:02:42.369074Z",
          "shell.execute_reply.started": "2023-01-27T13:02:28.286047Z"
        },
        "id": "8yzM1QupLX3B",
        "trusted": true
      },
      "outputs": [
        {
          "name": "stderr",
          "output_type": "stream",
          "text": [
            "<>:1: SyntaxWarning: invalid escape sequence '\\c'\n",
            "<>:1: SyntaxWarning: invalid escape sequence '\\c'\n",
            "C:\\Users\\comp\\AppData\\Local\\Temp\\ipykernel_8496\\3818127217.py:1: SyntaxWarning: invalid escape sequence '\\c'\n",
            "  final_model = tf.keras.models.load_model('surface-crack\\content\\surface-crack.keras')\n"
          ]
        }
      ],
      "source": [
        "final_model = tf.keras.models.load_model('surface-crack\\content\\surface-crack.keras')"
      ]
    },
    {
      "cell_type": "code",
      "execution_count": 5,
      "metadata": {
        "colab": {
          "base_uri": "https://localhost:8080/"
        },
        "execution": {
          "iopub.execute_input": "2023-01-27T13:02:42.420392Z",
          "iopub.status.busy": "2023-01-27T13:02:42.420017Z",
          "iopub.status.idle": "2023-01-27T13:02:44.513843Z",
          "shell.execute_reply": "2023-01-27T13:02:44.512785Z",
          "shell.execute_reply.started": "2023-01-27T13:02:42.420359Z"
        },
        "id": "eSwf08DZLX3B",
        "outputId": "b9e332fe-e12c-4d96-d642-9fa2dfad85d0",
        "trusted": true
      },
      "outputs": [
        {
          "ename": "NameError",
          "evalue": "name 'X_test' is not defined",
          "output_type": "error",
          "traceback": [
            "\u001b[31m---------------------------------------------------------------------------\u001b[39m",
            "\u001b[31mNameError\u001b[39m                                 Traceback (most recent call last)",
            "\u001b[36mCell\u001b[39m\u001b[36m \u001b[39m\u001b[32mIn[5]\u001b[39m\u001b[32m, line 1\u001b[39m\n\u001b[32m----> \u001b[39m\u001b[32m1\u001b[39m pred = final_model.predict(\u001b[43mX_test\u001b[49m)\n\u001b[32m      2\u001b[39m pred\n",
            "\u001b[31mNameError\u001b[39m: name 'X_test' is not defined"
          ]
        }
      ],
      "source": [
        "pred = final_model.predict(X_test)\n",
        "pred\n"
      ]
    },
    {
      "cell_type": "code",
      "execution_count": null,
      "metadata": {
        "colab": {
          "base_uri": "https://localhost:8080/"
        },
        "execution": {
          "iopub.execute_input": "2023-01-27T13:02:44.521131Z",
          "iopub.status.busy": "2023-01-27T13:02:44.518492Z",
          "iopub.status.idle": "2023-01-27T13:02:44.534855Z",
          "shell.execute_reply": "2023-01-27T13:02:44.533786Z",
          "shell.execute_reply.started": "2023-01-27T13:02:44.521084Z"
        },
        "id": "TvQaUAdhLX3B",
        "outputId": "f09744a7-570e-4f84-8e1c-a018e8d38da1",
        "trusted": true
      },
      "outputs": [],
      "source": [
        "pred_final = np.where(pred>0.5,1,0)\n",
        "pred_final"
      ]
    },
    {
      "cell_type": "markdown",
      "metadata": {
        "id": "jz3lwkb0LX3B"
      },
      "source": [
        "# Evaluating Metrics"
      ]
    },
    {
      "cell_type": "code",
      "execution_count": null,
      "metadata": {
        "colab": {
          "base_uri": "https://localhost:8080/",
          "height": 718
        },
        "execution": {
          "iopub.execute_input": "2023-01-27T13:02:44.539257Z",
          "iopub.status.busy": "2023-01-27T13:02:44.538847Z",
          "iopub.status.idle": "2023-01-27T13:02:46.521691Z",
          "shell.execute_reply": "2023-01-27T13:02:46.520146Z",
          "shell.execute_reply.started": "2023-01-27T13:02:44.539213Z"
        },
        "id": "ifJB61hKLX3B",
        "outputId": "ef3efbe2-8ef8-4449-8ccb-5e6eb6da4be7",
        "trusted": true
      },
      "outputs": [],
      "source": [
        "# Get the confusion matrix\n",
        "CM = confusion_matrix(y_test, pred_final)\n",
        "\n",
        "fig, ax = plot_confusion_matrix(conf_mat=CM ,  figsize=(8,8))\n",
        "plt.title('Confusion matrix')\n",
        "plt.xticks(range(2), ['Positive','Negative'], fontsize=10)\n",
        "plt.yticks(range(2), ['Positive','Negative'], fontsize=10)\n",
        "plt.show()"
      ]
    },
    {
      "cell_type": "code",
      "execution_count": null,
      "metadata": {
        "execution": {
          "iopub.execute_input": "2023-01-27T13:02:46.523825Z",
          "iopub.status.busy": "2023-01-27T13:02:46.523426Z",
          "iopub.status.idle": "2023-01-27T13:02:46.541664Z",
          "shell.execute_reply": "2023-01-27T13:02:46.53966Z",
          "shell.execute_reply.started": "2023-01-27T13:02:46.523786Z"
        },
        "id": "3SiBBIL-LX3B",
        "trusted": true
      },
      "outputs": [],
      "source": [
        "def perf_measure(y_test, pred_final):\n",
        "    TP = 0\n",
        "    FP = 0\n",
        "    TN = 0\n",
        "    FN = 0\n",
        "\n",
        "    for i in range(len(pred_final)):\n",
        "        if y_test[i]==pred_final[i]==1:\n",
        "           TP += 1\n",
        "        if y_test[i]==1 and y_test[i]!=pred_final[i]:\n",
        "           FP += 1\n",
        "        if y_test[i]==pred_final[i]==0:\n",
        "           TN += 1\n",
        "        if y_test[i]==0 and y_test[i]!=pred_final[i]:\n",
        "           FN += 1\n",
        "\n",
        "    return(TP, FP, TN, FN)"
      ]
    },
    {
      "cell_type": "code",
      "execution_count": null,
      "metadata": {
        "colab": {
          "base_uri": "https://localhost:8080/"
        },
        "execution": {
          "iopub.execute_input": "2023-01-27T13:02:46.543556Z",
          "iopub.status.busy": "2023-01-27T13:02:46.54307Z",
          "iopub.status.idle": "2023-01-27T13:02:46.56847Z",
          "shell.execute_reply": "2023-01-27T13:02:46.567354Z",
          "shell.execute_reply.started": "2023-01-27T13:02:46.543508Z"
        },
        "id": "mb-v_I-4LX3C",
        "outputId": "00736637-3f44-4deb-db30-4831c7db4290",
        "trusted": true
      },
      "outputs": [],
      "source": [
        "tp, fp, tn ,fn = perf_measure(y_test,pred_final)\n",
        "\n",
        "precision = tp/(tp+fp)\n",
        "recall = tp/(tp+fn)\n",
        "f_score = (2*precision*recall)/(precision+recall)\n",
        "\n",
        "print(\"Recall of the model is {:.2f}\".format(recall))\n",
        "print(\"Precision of the model is {:.2f}\".format(precision))\n",
        "print(\"F-Score is {:.2f}\".format(f_score))"
      ]
    },
    {
      "cell_type": "code",
      "execution_count": null,
      "metadata": {
        "execution": {
          "iopub.execute_input": "2023-01-27T13:02:46.570038Z",
          "iopub.status.busy": "2023-01-27T13:02:46.569759Z",
          "iopub.status.idle": "2023-01-27T13:02:46.577537Z",
          "shell.execute_reply": "2023-01-27T13:02:46.576332Z",
          "shell.execute_reply.started": "2023-01-27T13:02:46.570012Z"
        },
        "id": "hkLEnktaLX3C",
        "trusted": true
      },
      "outputs": [],
      "source": [
        "def predict_input_image(img):\n",
        "    img_4d=img.reshape(-1,224,224,3)\n",
        "    img_4d=img_4d/255\n",
        "    prediction = np.zeros((1,2))\n",
        "    prediction[0,0] = (1-final_model.predict(img_4d)[0,0])\n",
        "    prediction[0,1] = (final_model.predict(img_4d)[0,0])\n",
        "    labels = ['crack detected', 'crack is not present']\n",
        "    return {labels[i]: float(prediction[0,i]) for i in range(2)}"
      ]
    },
    {
      "cell_type": "code",
      "execution_count": null,
      "metadata": {
        "colab": {
          "base_uri": "https://localhost:8080/",
          "height": 1000
        },
        "execution": {
          "iopub.execute_input": "2023-01-27T13:02:46.580166Z",
          "iopub.status.busy": "2023-01-27T13:02:46.579287Z",
          "iopub.status.idle": "2023-01-27T13:03:01.618828Z",
          "shell.execute_reply": "2023-01-27T13:03:01.617646Z",
          "shell.execute_reply.started": "2023-01-27T13:02:46.580125Z"
        },
        "id": "4Jv-pHyyLX3C",
        "outputId": "ab42c639-236e-4b81-8718-3fde3c8a446d",
        "trusted": true
      },
      "outputs": [],
      "source": [
        "import gradio as gr\n",
        "import numpy as np\n",
        "import tensorflow as tf\n",
        "import cv2\n",
        "import matplotlib.cm as cm\n",
        "from tensorflow.keras.preprocessing.image import img_to_array\n",
        "\n",
        "# Load trained model\n",
        "final_model = tf.keras.models.load_model(\"surface-crack.keras\")\n",
        "\n",
        "# Get the last convolutional layer\n",
        "last_conv_layer_name = \"conv2d_69\"  # Change this if needed\n",
        "\n",
        "\n",
        "# Function to compute Grad-CAM heatmap\n",
        "def make_gradcam_heatmap(img_array, model, last_conv_layer_name):\n",
        "    grad_model = tf.keras.models.Model(\n",
        "        [model.inputs], [model.get_layer(last_conv_layer_name).output, model.output]\n",
        "    )\n",
        "\n",
        "    with tf.GradientTape() as tape:\n",
        "        conv_outputs, predictions = grad_model(img_array)\n",
        "        predicted_class = tf.argmax(predictions[0])\n",
        "        loss = predictions[:, predicted_class]\n",
        "\n",
        "    grads = tape.gradient(loss, conv_outputs)\n",
        "    pooled_grads = tf.reduce_mean(grads, axis=(0, 1, 2))\n",
        "\n",
        "    conv_outputs = conv_outputs[0]\n",
        "    heatmap = conv_outputs @ pooled_grads[..., tf.newaxis]\n",
        "    heatmap = tf.squeeze(heatmap)\n",
        "\n",
        "    # Normalize heatmap\n",
        "    heatmap = np.maximum(heatmap, 0)\n",
        "    heatmap /= np.max(heatmap)\n",
        "    return heatmap, predicted_class.numpy()\n",
        "\n",
        "# Function to apply segmentation on heatmap\n",
        "def segment_crack(img, heatmap):\n",
        "    heatmap = cv2.resize(heatmap, (img.shape[1], img.shape[0]))\n",
        "    heatmap = np.uint8(255 * heatmap)  # Scale heatmap to 0-255\n",
        "\n",
        "    # No need for cvtColor, heatmap is already single-channel\n",
        "    gray_heatmap = heatmap\n",
        "\n",
        "    # Apply adaptive thresholding to segment the crack\n",
        "    _, binary_mask = cv2.threshold(gray_heatmap, 100, 255, cv2.THRESH_BINARY)\n",
        "\n",
        "    # Find contours of the crack\n",
        "    contours, _ = cv2.findContours(binary_mask, cv2.RETR_EXTERNAL, cv2.CHAIN_APPROX_SIMPLE)\n",
        "\n",
        "    # Draw contours on the original image\n",
        "    segmented_image = img.copy()\n",
        "    cv2.drawContours(segmented_image, contours, -1, (0, 255, 0), 2)  # Green contours\n",
        "\n",
        "    return segmented_image\n",
        "\n",
        "\n",
        "# Function for Gradio prediction\n",
        "def predict_input_image(image):\n",
        "    try:\n",
        "        image = np.array(image)\n",
        "\n",
        "        # Preprocess image\n",
        "        image_resized = cv2.resize(image, (224, 224))\n",
        "        img_array = img_to_array(image_resized) / 255.0\n",
        "        img_array = np.expand_dims(img_array, axis=0)\n",
        "\n",
        "        # Get Grad-CAM heatmap\n",
        "        heatmap, predicted_class = make_gradcam_heatmap(img_array, final_model, last_conv_layer_name)\n",
        "\n",
        "        # Overlay segmentation\n",
        "        segmented_image = segment_crack(image_resized, heatmap)\n",
        "\n",
        "        # Class labels\n",
        "        CLASS_LABELS = {0: \"Surface clean, no cracks found.\", 1: \"Crack Detected\"}\n",
        "        confidence = final_model.predict(img_array)[0][predicted_class]\n",
        "        if confidence < 0.2:\n",
        "            confidence = 1 - confidence\n",
        "            predicted_class = 1\n",
        "\n",
        "\n",
        "        return CLASS_LABELS[predicted_class], f\"Confidence: {confidence:.2%}\", segmented_image\n",
        "\n",
        "    except Exception as e:\n",
        "        return \"Error\", str(e), None\n",
        "\n",
        "# Setup Gradio Interface\n",
        "image = gr.Image(type=\"numpy\")\n",
        "label = gr.Label()\n",
        "confidence = gr.Textbox()\n",
        "segmented_output = gr.Image(type=\"numpy\")\n",
        "\n",
        "inter = gr.Interface(\n",
        "    fn=predict_input_image,\n",
        "    inputs=image,\n",
        "    outputs=[label, confidence, segmented_output],\n",
        "    title=\"Crack Detection with Segmentation\",\n",
        "    live=True\n",
        ")\n",
        "\n",
        "inter.launch()\n",
        "\n",
        "\n"
      ]
    },
    {
      "cell_type": "code",
      "execution_count": null,
      "metadata": {
        "id": "phD4gX2iLX3C"
      },
      "outputs": [],
      "source": []
    }
  ],
  "metadata": {
    "colab": {
      "provenance": []
    },
    "kernelspec": {
      "display_name": "crackENV",
      "language": "python",
      "name": "python3"
    },
    "language_info": {
      "codemirror_mode": {
        "name": "ipython",
        "version": 3
      },
      "file_extension": ".py",
      "mimetype": "text/x-python",
      "name": "python",
      "nbconvert_exporter": "python",
      "pygments_lexer": "ipython3",
      "version": "3.12.5"
    }
  },
  "nbformat": 4,
  "nbformat_minor": 0
}
